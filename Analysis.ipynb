{
 "cells": [
  {
   "cell_type": "code",
   "execution_count": 106,
   "id": "bb53c7af",
   "metadata": {},
   "outputs": [
    {
     "name": "stdout",
     "output_type": "stream",
     "text": [
      "Populating the interactive namespace from numpy and matplotlib\n"
     ]
    }
   ],
   "source": [
    "import psycopg2\n",
    "import pandas as pd\n",
    "from jupyterthemes import jtplot\n",
    "jtplot.style(context='talk', fscale=1.4, spines=False, gridlines='--')\n",
    "%pylab inline"
   ]
  },
  {
   "cell_type": "code",
   "execution_count": 6,
   "id": "543bc30a",
   "metadata": {},
   "outputs": [],
   "source": [
    "conn = psycopg2.connect(\"dbname=postgres user=postgres password=your-password-here host=172.17.0.2\")\n",
    "cur = conn.cursor()"
   ]
  },
  {
   "cell_type": "markdown",
   "id": "4fc64563",
   "metadata": {},
   "source": [
    "# Application layer brekage"
   ]
  },
  {
   "cell_type": "markdown",
   "id": "758322a8",
   "metadata": {},
   "source": [
    "## by provider?"
   ]
  },
  {
   "cell_type": "code",
   "execution_count": 16,
   "id": "15b3b328",
   "metadata": {},
   "outputs": [],
   "source": [
    "def rollback ():\n",
    "    conn.commit()"
   ]
  },
  {
   "cell_type": "code",
   "execution_count": 54,
   "id": "714aadf3",
   "metadata": {},
   "outputs": [],
   "source": [
    "def get_market (market_name):\n",
    "    '''\n",
    "    Gets all data on market_name YTD\n",
    "    '''\n",
    "    q = f'''\n",
    "    SELECT\n",
    "      name,\n",
    "      jurisdiction_alpha2,\n",
    "      marketshare\n",
    "    FROM provider_marketshare\n",
    "    WHERE\n",
    "      time between '2021-01-01' and '2021-06-20' AND\n",
    "      market = '{market_name}' AND\n",
    "      marketshare > 0 AND\n",
    "      jurisdiction_alpha2 is not NULL\n",
    "    '''\n",
    "    rollback()\n",
    "    cur.execute(q)\n",
    "    results = cur.fetchall()\n",
    "    market = pd.DataFrame(results, columns=['name', 'jurisdiction_alpha2', 'marketshare'])\n",
    "    market.marketshare = market.marketshare.astype(float)\n",
    "    return market"
   ]
  },
  {
   "cell_type": "code",
   "execution_count": 55,
   "id": "3d88ea21",
   "metadata": {},
   "outputs": [],
   "source": [
    "m = get_market('dns-server')"
   ]
  },
  {
   "cell_type": "code",
   "execution_count": 57,
   "id": "f3d98fb4",
   "metadata": {},
   "outputs": [
    {
     "data": {
      "text/html": [
       "<div>\n",
       "<style scoped>\n",
       "    .dataframe tbody tr th:only-of-type {\n",
       "        vertical-align: middle;\n",
       "    }\n",
       "\n",
       "    .dataframe tbody tr th {\n",
       "        vertical-align: top;\n",
       "    }\n",
       "\n",
       "    .dataframe thead th {\n",
       "        text-align: right;\n",
       "    }\n",
       "</style>\n",
       "<table border=\"1\" class=\"dataframe\">\n",
       "  <thead>\n",
       "    <tr style=\"text-align: right;\">\n",
       "      <th></th>\n",
       "      <th>marketshare</th>\n",
       "    </tr>\n",
       "    <tr>\n",
       "      <th>name</th>\n",
       "      <th></th>\n",
       "    </tr>\n",
       "  </thead>\n",
       "  <tbody>\n",
       "    <tr>\n",
       "      <th>1984 Hosting</th>\n",
       "      <td>0.000110</td>\n",
       "    </tr>\n",
       "    <tr>\n",
       "      <th>A2 Hosting</th>\n",
       "      <td>0.003256</td>\n",
       "    </tr>\n",
       "    <tr>\n",
       "      <th>AT&amp;T</th>\n",
       "      <td>0.000375</td>\n",
       "    </tr>\n",
       "    <tr>\n",
       "      <th>Aerotek</th>\n",
       "      <td>0.001997</td>\n",
       "    </tr>\n",
       "    <tr>\n",
       "      <th>Afraid</th>\n",
       "      <td>0.000315</td>\n",
       "    </tr>\n",
       "    <tr>\n",
       "      <th>...</th>\n",
       "      <td>...</td>\n",
       "    </tr>\n",
       "    <tr>\n",
       "      <th>Yandex</th>\n",
       "      <td>0.004747</td>\n",
       "    </tr>\n",
       "    <tr>\n",
       "      <th>cdmon</th>\n",
       "      <td>0.000996</td>\n",
       "    </tr>\n",
       "    <tr>\n",
       "      <th>easyDNS Group</th>\n",
       "      <td>0.001006</td>\n",
       "    </tr>\n",
       "    <tr>\n",
       "      <th>o2switch</th>\n",
       "      <td>0.001000</td>\n",
       "    </tr>\n",
       "    <tr>\n",
       "      <th>team.blue</th>\n",
       "      <td>0.010443</td>\n",
       "    </tr>\n",
       "  </tbody>\n",
       "</table>\n",
       "<p>136 rows × 1 columns</p>\n",
       "</div>"
      ],
      "text/plain": [
       "               marketshare\n",
       "name                      \n",
       "1984 Hosting      0.000110\n",
       "A2 Hosting        0.003256\n",
       "AT&T              0.000375\n",
       "Aerotek           0.001997\n",
       "Afraid            0.000315\n",
       "...                    ...\n",
       "Yandex            0.004747\n",
       "cdmon             0.000996\n",
       "easyDNS Group     0.001006\n",
       "o2switch          0.001000\n",
       "team.blue         0.010443\n",
       "\n",
       "[136 rows x 1 columns]"
      ]
     },
     "execution_count": 57,
     "metadata": {},
     "output_type": "execute_result"
    }
   ],
   "source": [
    "m.groupby('name').mean()"
   ]
  },
  {
   "cell_type": "code",
   "execution_count": 131,
   "id": "5154d746",
   "metadata": {},
   "outputs": [],
   "source": [
    "from typing import Callable\n",
    "\n",
    "markets = [\n",
    "    'dns-server',\n",
    "    'proxy',\n",
    "    'ssl-certificate',\n",
    "    'data-centers',\n",
    "#     'server-location',\n",
    "    'web-hosting',\n",
    "    'top-level-domain',\n",
    "]\n",
    "\n",
    "def max_extent (transformer: Callable[[pd.DataFrame], pd.DataFrame], join_on):\n",
    "    ms = []\n",
    "    for market in markets:\n",
    "        m = get_market(market)\n",
    "        m = transformer(m)\n",
    "        m = m.rename({'marketshare': market}, axis=1)\n",
    "        ms.append(m)\n",
    "        \n",
    "    t = ms[0]\n",
    "    for i, m_df in enumerate(ms[1:]):\n",
    "        t = t.merge(ms[i+1], how='outer', left_on=join_on, right_on=join_on)\n",
    "        \n",
    "    max_extent = t.max(axis=1).sort_values(ascending=False)\n",
    "    return max_extent"
   ]
  },
  {
   "cell_type": "code",
   "execution_count": 132,
   "id": "9a48aeff",
   "metadata": {},
   "outputs": [],
   "source": [
    "fn = lambda m: m.groupby('name').mean() \n",
    "powers = max_extent(fn, 'name')"
   ]
  },
  {
   "cell_type": "code",
   "execution_count": 133,
   "id": "08304db1",
   "metadata": {},
   "outputs": [
    {
     "data": {
      "text/plain": [
       "<AxesSubplot:xlabel='name'>"
      ]
     },
     "execution_count": 133,
     "metadata": {},
     "output_type": "execute_result"
    },
    {
     "data": {
      "image/png": "[encoded data removed]",
      "text/plain": [
       "<Figure size 432x288 with 1 Axes>"
      ]
     },
     "metadata": {
      "needs_background": "light"
     },
     "output_type": "display_data"
    }
   ],
   "source": [
    "powers[:20].plot.bar()"
   ]
  },
  {
   "cell_type": "markdown",
   "id": "7dfcba0c",
   "metadata": {},
   "source": [
    "## for each jurisdiction?"
   ]
  },
  {
   "cell_type": "code",
   "execution_count": 134,
   "id": "cc2bb28a",
   "metadata": {},
   "outputs": [],
   "source": [
    "fn = lambda m: m.groupby(['name', 'jurisdiction_alpha2']).mean().groupby('jurisdiction_alpha2').sum()\n",
    "powers = max_extent(fn, 'jurisdiction_alpha2')"
   ]
  },
  {
   "cell_type": "code",
   "execution_count": 137,
   "id": "36f256e4",
   "metadata": {},
   "outputs": [
    {
     "data": {
      "text/plain": [
       "<AxesSubplot:xlabel='jurisdiction_alpha2'>"
      ]
     },
     "execution_count": 137,
     "metadata": {},
     "output_type": "execute_result"
    },
    {
     "data": {
      "image/png": "[encoded data removed]",
      "text/plain": [
       "<Figure size 432x288 with 1 Axes>"
      ]
     },
     "metadata": {
      "needs_background": "light"
     },
     "output_type": "display_data"
    }
   ],
   "source": [
    "powers[:20].plot.bar()"
   ]
  }
 ],
 "metadata": {
  "kernelspec": {
   "display_name": "Python 3",
   "language": "python",
   "name": "python3"
  },
  "language_info": {
   "codemirror_mode": {
    "name": "ipython",
    "version": 3
   },
   "file_extension": ".py",
   "mimetype": "text/x-python",
   "name": "python",
   "nbconvert_exporter": "python",
   "pygments_lexer": "ipython3",
   "version": "3.8.5"
  }
 },
 "nbformat": 4,
 "nbformat_minor": 5
}
